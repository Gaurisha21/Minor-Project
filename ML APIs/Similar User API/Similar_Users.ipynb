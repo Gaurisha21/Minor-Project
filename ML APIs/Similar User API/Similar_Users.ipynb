{
 "cells": [
  {
   "cell_type": "markdown",
   "id": "61cdd8d3",
   "metadata": {},
   "source": [
    "## Libraries"
   ]
  },
  {
   "cell_type": "code",
   "execution_count": 27,
   "id": "c4ffd45d",
   "metadata": {
    "scrolled": false
   },
   "outputs": [],
   "source": [
    "from surprise.model_selection import train_test_split\n",
    "from sklearn.neighbors import NearestNeighbors\n",
    "from scipy.sparse import csr_matrix\n",
    "from surprise import Dataset\n",
    "from surprise import Reader\n",
    "import pandas as pd\n",
    "import numpy as np"
   ]
  },
  {
   "cell_type": "code",
   "execution_count": 28,
   "id": "255d573e",
   "metadata": {
    "scrolled": true
   },
   "outputs": [],
   "source": [
    "ratings = pd.read_csv(r'C:\\Users\\Gaurisha R Srivastav\\OneDrive\\IT2 4th Year Study Material\\Semester 7\\Minor Project\\Flipsmart-main\\ML APIs\\New User API\\similar users.csv')"
   ]
  },
  {
   "cell_type": "code",
   "execution_count": 29,
   "id": "caf12c37",
   "metadata": {
    "scrolled": false
   },
   "outputs": [
    {
     "data": {
      "text/html": [
       "<div>\n",
       "<style scoped>\n",
       "    .dataframe tbody tr th:only-of-type {\n",
       "        vertical-align: middle;\n",
       "    }\n",
       "\n",
       "    .dataframe tbody tr th {\n",
       "        vertical-align: top;\n",
       "    }\n",
       "\n",
       "    .dataframe thead th {\n",
       "        text-align: right;\n",
       "    }\n",
       "</style>\n",
       "<table border=\"1\" class=\"dataframe\">\n",
       "  <thead>\n",
       "    <tr style=\"text-align: right;\">\n",
       "      <th></th>\n",
       "      <th>ITEM</th>\n",
       "      <th>ProductId</th>\n",
       "      <th>Rating</th>\n",
       "      <th>UserId</th>\n",
       "    </tr>\n",
       "  </thead>\n",
       "  <tbody>\n",
       "    <tr>\n",
       "      <th>0</th>\n",
       "      <td>toothpaste</td>\n",
       "      <td>6175005570</td>\n",
       "      <td>5</td>\n",
       "      <td>A39HTATAQ9V7YF</td>\n",
       "    </tr>\n",
       "    <tr>\n",
       "      <th>1</th>\n",
       "      <td>whole wheat pasta</td>\n",
       "      <td>1304488608</td>\n",
       "      <td>2</td>\n",
       "      <td>A3JM6GV9MNOF9X</td>\n",
       "    </tr>\n",
       "    <tr>\n",
       "      <th>2</th>\n",
       "      <td>white wine</td>\n",
       "      <td>6167061580</td>\n",
       "      <td>4</td>\n",
       "      <td>A1Z513UWSAAO0F</td>\n",
       "    </tr>\n",
       "    <tr>\n",
       "      <th>3</th>\n",
       "      <td>grated cheese</td>\n",
       "      <td>1304651104</td>\n",
       "      <td>3</td>\n",
       "      <td>A1WMRR494NWEWV</td>\n",
       "    </tr>\n",
       "    <tr>\n",
       "      <th>4</th>\n",
       "      <td>whole weat flour</td>\n",
       "      <td>1304139212</td>\n",
       "      <td>4</td>\n",
       "      <td>A3IAAVS479H7M7</td>\n",
       "    </tr>\n",
       "    <tr>\n",
       "      <th>5</th>\n",
       "      <td>eggplant</td>\n",
       "      <td>5357955867</td>\n",
       "      <td>2</td>\n",
       "      <td>AKJHHD5VEH7VG</td>\n",
       "    </tr>\n",
       "    <tr>\n",
       "      <th>6</th>\n",
       "      <td>burger sauce</td>\n",
       "      <td>5357955454</td>\n",
       "      <td>2</td>\n",
       "      <td>A1BG8QW55XHN6U</td>\n",
       "    </tr>\n",
       "    <tr>\n",
       "      <th>7</th>\n",
       "      <td>french wine</td>\n",
       "      <td>1412759676</td>\n",
       "      <td>5</td>\n",
       "      <td>A22VW0P4VZHDE3</td>\n",
       "    </tr>\n",
       "    <tr>\n",
       "      <th>8</th>\n",
       "      <td>cauliflower</td>\n",
       "      <td>6165151329</td>\n",
       "      <td>1</td>\n",
       "      <td>A3V3RE4132GKRO</td>\n",
       "    </tr>\n",
       "    <tr>\n",
       "      <th>9</th>\n",
       "      <td>yams</td>\n",
       "      <td>1304139220</td>\n",
       "      <td>4</td>\n",
       "      <td>A327B0I7CYTEJC</td>\n",
       "    </tr>\n",
       "  </tbody>\n",
       "</table>\n",
       "</div>"
      ],
      "text/plain": [
       "                ITEM   ProductId  Rating          UserId\n",
       "0         toothpaste  6175005570       5  A39HTATAQ9V7YF\n",
       "1  whole wheat pasta  1304488608       2  A3JM6GV9MNOF9X\n",
       "2         white wine  6167061580       4  A1Z513UWSAAO0F\n",
       "3      grated cheese  1304651104       3  A1WMRR494NWEWV\n",
       "4   whole weat flour  1304139212       4  A3IAAVS479H7M7\n",
       "5           eggplant  5357955867       2   AKJHHD5VEH7VG\n",
       "6       burger sauce  5357955454       2  A1BG8QW55XHN6U\n",
       "7        french wine  1412759676       5  A22VW0P4VZHDE3\n",
       "8        cauliflower  6165151329       1  A3V3RE4132GKRO\n",
       "9               yams  1304139220       4  A327B0I7CYTEJC"
      ]
     },
     "execution_count": 29,
     "metadata": {},
     "output_type": "execute_result"
    }
   ],
   "source": [
    "ratings.head(10)"
   ]
  },
  {
   "cell_type": "markdown",
   "id": "18be5546",
   "metadata": {},
   "source": [
    "### No of Uers and Products"
   ]
  },
  {
   "cell_type": "code",
   "execution_count": 30,
   "id": "3262543e",
   "metadata": {
    "scrolled": true
   },
   "outputs": [
    {
     "name": "stdout",
     "output_type": "stream",
     "text": [
      "26375 26375\n"
     ]
    }
   ],
   "source": [
    "# Total\n",
    "n_users = ratings.UserId.shape[0]\n",
    "n_items = ratings.ProductId.shape[0]\n",
    "\n",
    "print(n_users,n_items)"
   ]
  },
  {
   "cell_type": "code",
   "execution_count": 31,
   "id": "6cc48e7b",
   "metadata": {
    "scrolled": true
   },
   "outputs": [
    {
     "name": "stdout",
     "output_type": "stream",
     "text": [
      "1498 236\n"
     ]
    }
   ],
   "source": [
    "# Unique\n",
    "n_users = ratings.UserId.unique().shape[0]\n",
    "n_items = ratings.ProductId.unique().shape[0]\n",
    "\n",
    "print(n_users,n_items)"
   ]
  },
  {
   "cell_type": "markdown",
   "id": "96285a6e",
   "metadata": {},
   "source": [
    "### Users who have rated more than 20 times"
   ]
  },
  {
   "cell_type": "code",
   "execution_count": 32,
   "id": "3bafd997",
   "metadata": {
    "scrolled": true
   },
   "outputs": [
    {
     "data": {
      "text/plain": [
       "A2B3YKKXVN28TW     True\n",
       "A1VK4ALI1QOF5U     True\n",
       "A2P8AUMTM6O605     True\n",
       "A3SN6TKIXQI7RP     True\n",
       "A2MSCG0YX85RL4     True\n",
       "                  ...  \n",
       "A2S92B8TOGCIWF    False\n",
       "A25Q5FLFYVT0K9    False\n",
       "AL89HJRSN6P06     False\n",
       "A2R950V3H7DF4U    False\n",
       "A334RW0AL6LXIC    False\n",
       "Name: UserId, Length: 1498, dtype: bool"
      ]
     },
     "execution_count": 32,
     "metadata": {},
     "output_type": "execute_result"
    }
   ],
   "source": [
    "x = ratings['UserId'].value_counts()>20\n",
    "x"
   ]
  },
  {
   "cell_type": "code",
   "execution_count": 33,
   "id": "c1ba2f8c",
   "metadata": {},
   "outputs": [
    {
     "data": {
      "text/plain": [
       "Index(['A2B3YKKXVN28TW', 'A1VK4ALI1QOF5U', 'A2P8AUMTM6O605', 'A3SN6TKIXQI7RP',\n",
       "       'A2MSCG0YX85RL4', 'A1MLJHYS35C4X6', 'A2FTLN4PYZE7S6', 'ATPHIBSTV1NY5',\n",
       "       'A1QWS6V26JZ5OX', 'A2RDR51FRB58LD',\n",
       "       ...\n",
       "       'A2DT0SAXS5DIL8', 'A1X1X91COEBHVI', 'A1U6E8IJEATCYM', 'A3590W7FEAGQY4',\n",
       "       'A225BCNNIG03JT', 'A1UUX9VH9XXX0B', 'A1WSGOA6S3U9OC', 'A2WE4LU82W1U1L',\n",
       "       'A29AQSCFQ1OZ9R', 'APULYOSZS226A'],\n",
       "      dtype='object', length=415)"
      ]
     },
     "execution_count": 33,
     "metadata": {},
     "output_type": "execute_result"
    }
   ],
   "source": [
    "y = x[x].index\n",
    "y"
   ]
  },
  {
   "cell_type": "code",
   "execution_count": 34,
   "id": "61de0570",
   "metadata": {},
   "outputs": [],
   "source": [
    "ratings = ratings[ratings['UserId'].isin(y)]"
   ]
  },
  {
   "cell_type": "code",
   "execution_count": 35,
   "id": "69b85ed6",
   "metadata": {},
   "outputs": [
    {
     "data": {
      "text/plain": [
       "<bound method NDFrame.head of                    ITEM    ProductId  Rating          UserId\n",
       "5              eggplant   5357955867       2   AKJHHD5VEH7VG\n",
       "6          burger sauce   5357955454       2  A1BG8QW55XHN6U\n",
       "7           french wine   1412759676       5  A22VW0P4VZHDE3\n",
       "8           cauliflower   6165151329       1  A3V3RE4132GKRO\n",
       "9                  yams   1304139220       4  A327B0I7CYTEJC\n",
       "...                 ...          ...     ...             ...\n",
       "26370  dark forest cake  12324565978       2  A294IJJRMVOBSE\n",
       "26371  mustard hot dogs  12324565979       2  A3FPJWX0GHJCCG\n",
       "26372      dog pet food  12324565980       1   A5UQ98GXX7T47\n",
       "26373   cheese sandwich  12324565981       5  A13G2YWZQ3522K\n",
       "26374   protein fat bar  12324565982       4  A1Q3W2FX8LKH19\n",
       "\n",
       "[11731 rows x 4 columns]>"
      ]
     },
     "execution_count": 35,
     "metadata": {},
     "output_type": "execute_result"
    }
   ],
   "source": [
    "ratings.head"
   ]
  },
  {
   "cell_type": "code",
   "execution_count": 36,
   "id": "49711f50",
   "metadata": {},
   "outputs": [],
   "source": [
    "no_of_ratings = ratings.groupby('ITEM')['Rating'].count().reset_index()"
   ]
  },
  {
   "cell_type": "code",
   "execution_count": 37,
   "id": "33f5c8d3",
   "metadata": {},
   "outputs": [
    {
     "data": {
      "text/html": [
       "<div>\n",
       "<style scoped>\n",
       "    .dataframe tbody tr th:only-of-type {\n",
       "        vertical-align: middle;\n",
       "    }\n",
       "\n",
       "    .dataframe tbody tr th {\n",
       "        vertical-align: top;\n",
       "    }\n",
       "\n",
       "    .dataframe thead th {\n",
       "        text-align: right;\n",
       "    }\n",
       "</style>\n",
       "<table border=\"1\" class=\"dataframe\">\n",
       "  <thead>\n",
       "    <tr style=\"text-align: right;\">\n",
       "      <th></th>\n",
       "      <th>ITEM</th>\n",
       "      <th>No. of Ratings</th>\n",
       "    </tr>\n",
       "  </thead>\n",
       "  <tbody>\n",
       "    <tr>\n",
       "      <th>0</th>\n",
       "      <td>Parmigiano Reggiano</td>\n",
       "      <td>3</td>\n",
       "    </tr>\n",
       "    <tr>\n",
       "      <th>1</th>\n",
       "      <td>african yams</td>\n",
       "      <td>4</td>\n",
       "    </tr>\n",
       "    <tr>\n",
       "      <th>2</th>\n",
       "      <td>aged champagne</td>\n",
       "      <td>3</td>\n",
       "    </tr>\n",
       "    <tr>\n",
       "      <th>3</th>\n",
       "      <td>aged red wine</td>\n",
       "      <td>3</td>\n",
       "    </tr>\n",
       "    <tr>\n",
       "      <th>4</th>\n",
       "      <td>aged white wine</td>\n",
       "      <td>3</td>\n",
       "    </tr>\n",
       "    <tr>\n",
       "      <th>...</th>\n",
       "      <td>...</td>\n",
       "      <td>...</td>\n",
       "    </tr>\n",
       "    <tr>\n",
       "      <th>224</th>\n",
       "      <td>whole wheat rice</td>\n",
       "      <td>77</td>\n",
       "    </tr>\n",
       "    <tr>\n",
       "      <th>225</th>\n",
       "      <td>whole wheat spagetti</td>\n",
       "      <td>4</td>\n",
       "    </tr>\n",
       "    <tr>\n",
       "      <th>226</th>\n",
       "      <td>yams</td>\n",
       "      <td>91</td>\n",
       "    </tr>\n",
       "    <tr>\n",
       "      <th>227</th>\n",
       "      <td>yogurt cake</td>\n",
       "      <td>130</td>\n",
       "    </tr>\n",
       "    <tr>\n",
       "      <th>228</th>\n",
       "      <td>zucchini</td>\n",
       "      <td>77</td>\n",
       "    </tr>\n",
       "  </tbody>\n",
       "</table>\n",
       "<p>229 rows × 2 columns</p>\n",
       "</div>"
      ],
      "text/plain": [
       "                     ITEM  No. of Ratings\n",
       "0     Parmigiano Reggiano               3\n",
       "1            african yams               4\n",
       "2          aged champagne               3\n",
       "3           aged red wine               3\n",
       "4         aged white wine               3\n",
       "..                    ...             ...\n",
       "224      whole wheat rice              77\n",
       "225  whole wheat spagetti               4\n",
       "226                  yams              91\n",
       "227           yogurt cake             130\n",
       "228              zucchini              77\n",
       "\n",
       "[229 rows x 2 columns]"
      ]
     },
     "execution_count": 37,
     "metadata": {},
     "output_type": "execute_result"
    }
   ],
   "source": [
    "no_of_ratings.rename(columns={'Rating':'No. of Ratings'},inplace = True)\n",
    "no_of_ratings"
   ]
  },
  {
   "cell_type": "code",
   "execution_count": 38,
   "id": "d2d7bf03",
   "metadata": {},
   "outputs": [
    {
     "data": {
      "text/html": [
       "<div>\n",
       "<style scoped>\n",
       "    .dataframe tbody tr th:only-of-type {\n",
       "        vertical-align: middle;\n",
       "    }\n",
       "\n",
       "    .dataframe tbody tr th {\n",
       "        vertical-align: top;\n",
       "    }\n",
       "\n",
       "    .dataframe thead th {\n",
       "        text-align: right;\n",
       "    }\n",
       "</style>\n",
       "<table border=\"1\" class=\"dataframe\">\n",
       "  <thead>\n",
       "    <tr style=\"text-align: right;\">\n",
       "      <th></th>\n",
       "      <th>ITEM</th>\n",
       "      <th>ProductId</th>\n",
       "      <th>Rating</th>\n",
       "      <th>UserId</th>\n",
       "      <th>No. of Ratings</th>\n",
       "    </tr>\n",
       "  </thead>\n",
       "  <tbody>\n",
       "    <tr>\n",
       "      <th>0</th>\n",
       "      <td>eggplant</td>\n",
       "      <td>5357955867</td>\n",
       "      <td>2</td>\n",
       "      <td>AKJHHD5VEH7VG</td>\n",
       "      <td>123</td>\n",
       "    </tr>\n",
       "    <tr>\n",
       "      <th>1</th>\n",
       "      <td>eggplant</td>\n",
       "      <td>5357955867</td>\n",
       "      <td>5</td>\n",
       "      <td>A9ZNJ2AXPO652</td>\n",
       "      <td>123</td>\n",
       "    </tr>\n",
       "    <tr>\n",
       "      <th>2</th>\n",
       "      <td>eggplant</td>\n",
       "      <td>5357955867</td>\n",
       "      <td>4</td>\n",
       "      <td>A3BMQUL5QATQIW</td>\n",
       "      <td>123</td>\n",
       "    </tr>\n",
       "    <tr>\n",
       "      <th>3</th>\n",
       "      <td>eggplant</td>\n",
       "      <td>5357955867</td>\n",
       "      <td>3</td>\n",
       "      <td>A1T8YQ4FFMWQPC</td>\n",
       "      <td>123</td>\n",
       "    </tr>\n",
       "    <tr>\n",
       "      <th>4</th>\n",
       "      <td>eggplant</td>\n",
       "      <td>5357955867</td>\n",
       "      <td>5</td>\n",
       "      <td>A1ZY0K46FYOTB6</td>\n",
       "      <td>123</td>\n",
       "    </tr>\n",
       "    <tr>\n",
       "      <th>...</th>\n",
       "      <td>...</td>\n",
       "      <td>...</td>\n",
       "      <td>...</td>\n",
       "      <td>...</td>\n",
       "      <td>...</td>\n",
       "    </tr>\n",
       "    <tr>\n",
       "      <th>11726</th>\n",
       "      <td>whole wheat spagetti</td>\n",
       "      <td>12324565998</td>\n",
       "      <td>4</td>\n",
       "      <td>AC4343QXC1BCQ</td>\n",
       "      <td>4</td>\n",
       "    </tr>\n",
       "    <tr>\n",
       "      <th>11727</th>\n",
       "      <td>oat pasta</td>\n",
       "      <td>12324565999</td>\n",
       "      <td>4</td>\n",
       "      <td>A445U3NN5XBYK</td>\n",
       "      <td>4</td>\n",
       "    </tr>\n",
       "    <tr>\n",
       "      <th>11728</th>\n",
       "      <td>oat pasta</td>\n",
       "      <td>12324565999</td>\n",
       "      <td>4</td>\n",
       "      <td>A7SVI5Q1WC3UP</td>\n",
       "      <td>4</td>\n",
       "    </tr>\n",
       "    <tr>\n",
       "      <th>11729</th>\n",
       "      <td>oat pasta</td>\n",
       "      <td>12324565999</td>\n",
       "      <td>4</td>\n",
       "      <td>A445U3NN5XBYK</td>\n",
       "      <td>4</td>\n",
       "    </tr>\n",
       "    <tr>\n",
       "      <th>11730</th>\n",
       "      <td>oat pasta</td>\n",
       "      <td>12324565999</td>\n",
       "      <td>5</td>\n",
       "      <td>A7SVI5Q1WC3UP</td>\n",
       "      <td>4</td>\n",
       "    </tr>\n",
       "  </tbody>\n",
       "</table>\n",
       "<p>11731 rows × 5 columns</p>\n",
       "</div>"
      ],
      "text/plain": [
       "                       ITEM    ProductId  Rating          UserId  \\\n",
       "0                  eggplant   5357955867       2   AKJHHD5VEH7VG   \n",
       "1                  eggplant   5357955867       5   A9ZNJ2AXPO652   \n",
       "2                  eggplant   5357955867       4  A3BMQUL5QATQIW   \n",
       "3                  eggplant   5357955867       3  A1T8YQ4FFMWQPC   \n",
       "4                  eggplant   5357955867       5  A1ZY0K46FYOTB6   \n",
       "...                     ...          ...     ...             ...   \n",
       "11726  whole wheat spagetti  12324565998       4   AC4343QXC1BCQ   \n",
       "11727             oat pasta  12324565999       4   A445U3NN5XBYK   \n",
       "11728             oat pasta  12324565999       4   A7SVI5Q1WC3UP   \n",
       "11729             oat pasta  12324565999       4   A445U3NN5XBYK   \n",
       "11730             oat pasta  12324565999       5   A7SVI5Q1WC3UP   \n",
       "\n",
       "       No. of Ratings  \n",
       "0                 123  \n",
       "1                 123  \n",
       "2                 123  \n",
       "3                 123  \n",
       "4                 123  \n",
       "...               ...  \n",
       "11726               4  \n",
       "11727               4  \n",
       "11728               4  \n",
       "11729               4  \n",
       "11730               4  \n",
       "\n",
       "[11731 rows x 5 columns]"
      ]
     },
     "execution_count": 38,
     "metadata": {},
     "output_type": "execute_result"
    }
   ],
   "source": [
    "final_ratings = ratings.merge(no_of_ratings, on='ITEM')\n",
    "final_ratings"
   ]
  },
  {
   "cell_type": "code",
   "execution_count": 39,
   "id": "e25f3a4f",
   "metadata": {},
   "outputs": [],
   "source": [
    "# IGNORE THIS CELL\n",
    "# final_ratings = final_ratings[final_ratings['No. of Ratings']>=90]\n",
    "# final_ratings.shape"
   ]
  },
  {
   "cell_type": "code",
   "execution_count": 40,
   "id": "1877afc0",
   "metadata": {},
   "outputs": [
    {
     "data": {
      "text/plain": [
       "(6687, 5)"
      ]
     },
     "execution_count": 40,
     "metadata": {},
     "output_type": "execute_result"
    }
   ],
   "source": [
    "final_ratings.drop_duplicates(['ITEM','UserId'],inplace=True)\n",
    "final_ratings.shape"
   ]
  },
  {
   "cell_type": "code",
   "execution_count": 41,
   "id": "deece68a",
   "metadata": {
    "scrolled": true
   },
   "outputs": [
    {
     "data": {
      "text/html": [
       "<div>\n",
       "<style scoped>\n",
       "    .dataframe tbody tr th:only-of-type {\n",
       "        vertical-align: middle;\n",
       "    }\n",
       "\n",
       "    .dataframe tbody tr th {\n",
       "        vertical-align: top;\n",
       "    }\n",
       "\n",
       "    .dataframe thead th {\n",
       "        text-align: right;\n",
       "    }\n",
       "</style>\n",
       "<table border=\"1\" class=\"dataframe\">\n",
       "  <thead>\n",
       "    <tr style=\"text-align: right;\">\n",
       "      <th>UserId</th>\n",
       "      <th>A00205921JHJK5X9LNP42</th>\n",
       "      <th>A024581134CV80ZBLIZTZ</th>\n",
       "      <th>A05492663T95KW63BR75K</th>\n",
       "      <th>A100GYE1W4OXZ8</th>\n",
       "      <th>A10REFE1TW3ZVT</th>\n",
       "      <th>A10ZKDOZOSH219</th>\n",
       "      <th>A11AT6B3912DCU</th>\n",
       "      <th>A11OEJ4R1PDTLN</th>\n",
       "      <th>A11PBM6FRXUJ5Q</th>\n",
       "      <th>A11Q1HQ84F8POH</th>\n",
       "      <th>...</th>\n",
       "      <th>AXG1D956QCMHI</th>\n",
       "      <th>AXVLSEEYTC4Z9</th>\n",
       "      <th>AY25UTTDNJ5SX</th>\n",
       "      <th>AYFZQPNEVSFMD</th>\n",
       "      <th>AYHZNXRPOHMO2</th>\n",
       "      <th>AYI1LDJYGG0ZK</th>\n",
       "      <th>AYM7E80UCJX7I</th>\n",
       "      <th>AZ4FR14IPKML7</th>\n",
       "      <th>AZLE2XFH3JUNG</th>\n",
       "      <th>AZWRTJPN7NXT</th>\n",
       "    </tr>\n",
       "    <tr>\n",
       "      <th>ITEM</th>\n",
       "      <th></th>\n",
       "      <th></th>\n",
       "      <th></th>\n",
       "      <th></th>\n",
       "      <th></th>\n",
       "      <th></th>\n",
       "      <th></th>\n",
       "      <th></th>\n",
       "      <th></th>\n",
       "      <th></th>\n",
       "      <th></th>\n",
       "      <th></th>\n",
       "      <th></th>\n",
       "      <th></th>\n",
       "      <th></th>\n",
       "      <th></th>\n",
       "      <th></th>\n",
       "      <th></th>\n",
       "      <th></th>\n",
       "      <th></th>\n",
       "      <th></th>\n",
       "    </tr>\n",
       "  </thead>\n",
       "  <tbody>\n",
       "    <tr>\n",
       "      <th>Parmigiano Reggiano</th>\n",
       "      <td>0.0</td>\n",
       "      <td>0.0</td>\n",
       "      <td>0.0</td>\n",
       "      <td>0.0</td>\n",
       "      <td>0.0</td>\n",
       "      <td>0.0</td>\n",
       "      <td>0.0</td>\n",
       "      <td>0.0</td>\n",
       "      <td>0.0</td>\n",
       "      <td>0.0</td>\n",
       "      <td>...</td>\n",
       "      <td>0.0</td>\n",
       "      <td>0.0</td>\n",
       "      <td>0.0</td>\n",
       "      <td>0.0</td>\n",
       "      <td>0.0</td>\n",
       "      <td>0.0</td>\n",
       "      <td>0.0</td>\n",
       "      <td>0.0</td>\n",
       "      <td>0.0</td>\n",
       "      <td>0.0</td>\n",
       "    </tr>\n",
       "    <tr>\n",
       "      <th>african yams</th>\n",
       "      <td>0.0</td>\n",
       "      <td>0.0</td>\n",
       "      <td>0.0</td>\n",
       "      <td>0.0</td>\n",
       "      <td>0.0</td>\n",
       "      <td>0.0</td>\n",
       "      <td>0.0</td>\n",
       "      <td>0.0</td>\n",
       "      <td>0.0</td>\n",
       "      <td>0.0</td>\n",
       "      <td>...</td>\n",
       "      <td>0.0</td>\n",
       "      <td>0.0</td>\n",
       "      <td>0.0</td>\n",
       "      <td>0.0</td>\n",
       "      <td>0.0</td>\n",
       "      <td>0.0</td>\n",
       "      <td>0.0</td>\n",
       "      <td>0.0</td>\n",
       "      <td>0.0</td>\n",
       "      <td>0.0</td>\n",
       "    </tr>\n",
       "    <tr>\n",
       "      <th>aged champagne</th>\n",
       "      <td>0.0</td>\n",
       "      <td>0.0</td>\n",
       "      <td>0.0</td>\n",
       "      <td>0.0</td>\n",
       "      <td>0.0</td>\n",
       "      <td>0.0</td>\n",
       "      <td>0.0</td>\n",
       "      <td>0.0</td>\n",
       "      <td>0.0</td>\n",
       "      <td>0.0</td>\n",
       "      <td>...</td>\n",
       "      <td>0.0</td>\n",
       "      <td>0.0</td>\n",
       "      <td>0.0</td>\n",
       "      <td>0.0</td>\n",
       "      <td>0.0</td>\n",
       "      <td>0.0</td>\n",
       "      <td>0.0</td>\n",
       "      <td>0.0</td>\n",
       "      <td>0.0</td>\n",
       "      <td>0.0</td>\n",
       "    </tr>\n",
       "    <tr>\n",
       "      <th>aged red wine</th>\n",
       "      <td>0.0</td>\n",
       "      <td>0.0</td>\n",
       "      <td>0.0</td>\n",
       "      <td>0.0</td>\n",
       "      <td>0.0</td>\n",
       "      <td>0.0</td>\n",
       "      <td>0.0</td>\n",
       "      <td>0.0</td>\n",
       "      <td>0.0</td>\n",
       "      <td>0.0</td>\n",
       "      <td>...</td>\n",
       "      <td>0.0</td>\n",
       "      <td>0.0</td>\n",
       "      <td>0.0</td>\n",
       "      <td>0.0</td>\n",
       "      <td>0.0</td>\n",
       "      <td>0.0</td>\n",
       "      <td>0.0</td>\n",
       "      <td>0.0</td>\n",
       "      <td>0.0</td>\n",
       "      <td>0.0</td>\n",
       "    </tr>\n",
       "    <tr>\n",
       "      <th>aged white wine</th>\n",
       "      <td>0.0</td>\n",
       "      <td>0.0</td>\n",
       "      <td>0.0</td>\n",
       "      <td>0.0</td>\n",
       "      <td>0.0</td>\n",
       "      <td>0.0</td>\n",
       "      <td>0.0</td>\n",
       "      <td>0.0</td>\n",
       "      <td>0.0</td>\n",
       "      <td>0.0</td>\n",
       "      <td>...</td>\n",
       "      <td>0.0</td>\n",
       "      <td>0.0</td>\n",
       "      <td>0.0</td>\n",
       "      <td>0.0</td>\n",
       "      <td>0.0</td>\n",
       "      <td>0.0</td>\n",
       "      <td>0.0</td>\n",
       "      <td>0.0</td>\n",
       "      <td>0.0</td>\n",
       "      <td>0.0</td>\n",
       "    </tr>\n",
       "    <tr>\n",
       "      <th>...</th>\n",
       "      <td>...</td>\n",
       "      <td>...</td>\n",
       "      <td>...</td>\n",
       "      <td>...</td>\n",
       "      <td>...</td>\n",
       "      <td>...</td>\n",
       "      <td>...</td>\n",
       "      <td>...</td>\n",
       "      <td>...</td>\n",
       "      <td>...</td>\n",
       "      <td>...</td>\n",
       "      <td>...</td>\n",
       "      <td>...</td>\n",
       "      <td>...</td>\n",
       "      <td>...</td>\n",
       "      <td>...</td>\n",
       "      <td>...</td>\n",
       "      <td>...</td>\n",
       "      <td>...</td>\n",
       "      <td>...</td>\n",
       "      <td>...</td>\n",
       "    </tr>\n",
       "    <tr>\n",
       "      <th>whole wheat rice</th>\n",
       "      <td>0.0</td>\n",
       "      <td>0.0</td>\n",
       "      <td>0.0</td>\n",
       "      <td>0.0</td>\n",
       "      <td>0.0</td>\n",
       "      <td>0.0</td>\n",
       "      <td>0.0</td>\n",
       "      <td>0.0</td>\n",
       "      <td>0.0</td>\n",
       "      <td>0.0</td>\n",
       "      <td>...</td>\n",
       "      <td>0.0</td>\n",
       "      <td>0.0</td>\n",
       "      <td>0.0</td>\n",
       "      <td>0.0</td>\n",
       "      <td>0.0</td>\n",
       "      <td>0.0</td>\n",
       "      <td>0.0</td>\n",
       "      <td>0.0</td>\n",
       "      <td>5.0</td>\n",
       "      <td>0.0</td>\n",
       "    </tr>\n",
       "    <tr>\n",
       "      <th>whole wheat spagetti</th>\n",
       "      <td>0.0</td>\n",
       "      <td>0.0</td>\n",
       "      <td>0.0</td>\n",
       "      <td>0.0</td>\n",
       "      <td>0.0</td>\n",
       "      <td>0.0</td>\n",
       "      <td>0.0</td>\n",
       "      <td>0.0</td>\n",
       "      <td>0.0</td>\n",
       "      <td>0.0</td>\n",
       "      <td>...</td>\n",
       "      <td>0.0</td>\n",
       "      <td>0.0</td>\n",
       "      <td>0.0</td>\n",
       "      <td>0.0</td>\n",
       "      <td>0.0</td>\n",
       "      <td>0.0</td>\n",
       "      <td>0.0</td>\n",
       "      <td>0.0</td>\n",
       "      <td>0.0</td>\n",
       "      <td>0.0</td>\n",
       "    </tr>\n",
       "    <tr>\n",
       "      <th>yams</th>\n",
       "      <td>0.0</td>\n",
       "      <td>0.0</td>\n",
       "      <td>0.0</td>\n",
       "      <td>0.0</td>\n",
       "      <td>5.0</td>\n",
       "      <td>0.0</td>\n",
       "      <td>2.0</td>\n",
       "      <td>5.0</td>\n",
       "      <td>0.0</td>\n",
       "      <td>3.0</td>\n",
       "      <td>...</td>\n",
       "      <td>0.0</td>\n",
       "      <td>0.0</td>\n",
       "      <td>0.0</td>\n",
       "      <td>0.0</td>\n",
       "      <td>0.0</td>\n",
       "      <td>0.0</td>\n",
       "      <td>0.0</td>\n",
       "      <td>4.0</td>\n",
       "      <td>5.0</td>\n",
       "      <td>0.0</td>\n",
       "    </tr>\n",
       "    <tr>\n",
       "      <th>yogurt cake</th>\n",
       "      <td>0.0</td>\n",
       "      <td>0.0</td>\n",
       "      <td>2.0</td>\n",
       "      <td>0.0</td>\n",
       "      <td>5.0</td>\n",
       "      <td>0.0</td>\n",
       "      <td>0.0</td>\n",
       "      <td>1.0</td>\n",
       "      <td>0.0</td>\n",
       "      <td>0.0</td>\n",
       "      <td>...</td>\n",
       "      <td>4.0</td>\n",
       "      <td>0.0</td>\n",
       "      <td>1.0</td>\n",
       "      <td>0.0</td>\n",
       "      <td>0.0</td>\n",
       "      <td>0.0</td>\n",
       "      <td>0.0</td>\n",
       "      <td>0.0</td>\n",
       "      <td>0.0</td>\n",
       "      <td>0.0</td>\n",
       "    </tr>\n",
       "    <tr>\n",
       "      <th>zucchini</th>\n",
       "      <td>4.0</td>\n",
       "      <td>0.0</td>\n",
       "      <td>0.0</td>\n",
       "      <td>0.0</td>\n",
       "      <td>0.0</td>\n",
       "      <td>0.0</td>\n",
       "      <td>0.0</td>\n",
       "      <td>0.0</td>\n",
       "      <td>0.0</td>\n",
       "      <td>0.0</td>\n",
       "      <td>...</td>\n",
       "      <td>0.0</td>\n",
       "      <td>0.0</td>\n",
       "      <td>0.0</td>\n",
       "      <td>0.0</td>\n",
       "      <td>0.0</td>\n",
       "      <td>5.0</td>\n",
       "      <td>4.0</td>\n",
       "      <td>0.0</td>\n",
       "      <td>0.0</td>\n",
       "      <td>0.0</td>\n",
       "    </tr>\n",
       "  </tbody>\n",
       "</table>\n",
       "<p>229 rows × 415 columns</p>\n",
       "</div>"
      ],
      "text/plain": [
       "UserId                A00205921JHJK5X9LNP42  A024581134CV80ZBLIZTZ  \\\n",
       "ITEM                                                                 \n",
       "Parmigiano Reggiano                     0.0                    0.0   \n",
       "african yams                            0.0                    0.0   \n",
       "aged champagne                          0.0                    0.0   \n",
       "aged red wine                           0.0                    0.0   \n",
       "aged white wine                         0.0                    0.0   \n",
       "...                                     ...                    ...   \n",
       "whole wheat rice                        0.0                    0.0   \n",
       "whole wheat spagetti                    0.0                    0.0   \n",
       "yams                                    0.0                    0.0   \n",
       "yogurt cake                             0.0                    0.0   \n",
       "zucchini                                4.0                    0.0   \n",
       "\n",
       "UserId                A05492663T95KW63BR75K  A100GYE1W4OXZ8  A10REFE1TW3ZVT  \\\n",
       "ITEM                                                                          \n",
       "Parmigiano Reggiano                     0.0             0.0             0.0   \n",
       "african yams                            0.0             0.0             0.0   \n",
       "aged champagne                          0.0             0.0             0.0   \n",
       "aged red wine                           0.0             0.0             0.0   \n",
       "aged white wine                         0.0             0.0             0.0   \n",
       "...                                     ...             ...             ...   \n",
       "whole wheat rice                        0.0             0.0             0.0   \n",
       "whole wheat spagetti                    0.0             0.0             0.0   \n",
       "yams                                    0.0             0.0             5.0   \n",
       "yogurt cake                             2.0             0.0             5.0   \n",
       "zucchini                                0.0             0.0             0.0   \n",
       "\n",
       "UserId                A10ZKDOZOSH219  A11AT6B3912DCU  A11OEJ4R1PDTLN  \\\n",
       "ITEM                                                                   \n",
       "Parmigiano Reggiano              0.0             0.0             0.0   \n",
       "african yams                     0.0             0.0             0.0   \n",
       "aged champagne                   0.0             0.0             0.0   \n",
       "aged red wine                    0.0             0.0             0.0   \n",
       "aged white wine                  0.0             0.0             0.0   \n",
       "...                              ...             ...             ...   \n",
       "whole wheat rice                 0.0             0.0             0.0   \n",
       "whole wheat spagetti             0.0             0.0             0.0   \n",
       "yams                             0.0             2.0             5.0   \n",
       "yogurt cake                      0.0             0.0             1.0   \n",
       "zucchini                         0.0             0.0             0.0   \n",
       "\n",
       "UserId                A11PBM6FRXUJ5Q  A11Q1HQ84F8POH  ...  AXG1D956QCMHI  \\\n",
       "ITEM                                                  ...                  \n",
       "Parmigiano Reggiano              0.0             0.0  ...            0.0   \n",
       "african yams                     0.0             0.0  ...            0.0   \n",
       "aged champagne                   0.0             0.0  ...            0.0   \n",
       "aged red wine                    0.0             0.0  ...            0.0   \n",
       "aged white wine                  0.0             0.0  ...            0.0   \n",
       "...                              ...             ...  ...            ...   \n",
       "whole wheat rice                 0.0             0.0  ...            0.0   \n",
       "whole wheat spagetti             0.0             0.0  ...            0.0   \n",
       "yams                             0.0             3.0  ...            0.0   \n",
       "yogurt cake                      0.0             0.0  ...            4.0   \n",
       "zucchini                         0.0             0.0  ...            0.0   \n",
       "\n",
       "UserId                AXVLSEEYTC4Z9  AY25UTTDNJ5SX  AYFZQPNEVSFMD  \\\n",
       "ITEM                                                                \n",
       "Parmigiano Reggiano             0.0            0.0            0.0   \n",
       "african yams                    0.0            0.0            0.0   \n",
       "aged champagne                  0.0            0.0            0.0   \n",
       "aged red wine                   0.0            0.0            0.0   \n",
       "aged white wine                 0.0            0.0            0.0   \n",
       "...                             ...            ...            ...   \n",
       "whole wheat rice                0.0            0.0            0.0   \n",
       "whole wheat spagetti            0.0            0.0            0.0   \n",
       "yams                            0.0            0.0            0.0   \n",
       "yogurt cake                     0.0            1.0            0.0   \n",
       "zucchini                        0.0            0.0            0.0   \n",
       "\n",
       "UserId                AYHZNXRPOHMO2  AYI1LDJYGG0ZK  AYM7E80UCJX7I  \\\n",
       "ITEM                                                                \n",
       "Parmigiano Reggiano             0.0            0.0            0.0   \n",
       "african yams                    0.0            0.0            0.0   \n",
       "aged champagne                  0.0            0.0            0.0   \n",
       "aged red wine                   0.0            0.0            0.0   \n",
       "aged white wine                 0.0            0.0            0.0   \n",
       "...                             ...            ...            ...   \n",
       "whole wheat rice                0.0            0.0            0.0   \n",
       "whole wheat spagetti            0.0            0.0            0.0   \n",
       "yams                            0.0            0.0            0.0   \n",
       "yogurt cake                     0.0            0.0            0.0   \n",
       "zucchini                        0.0            5.0            4.0   \n",
       "\n",
       "UserId                AZ4FR14IPKML7  AZLE2XFH3JUNG  AZWRTJPN7NXT  \n",
       "ITEM                                                              \n",
       "Parmigiano Reggiano             0.0            0.0           0.0  \n",
       "african yams                    0.0            0.0           0.0  \n",
       "aged champagne                  0.0            0.0           0.0  \n",
       "aged red wine                   0.0            0.0           0.0  \n",
       "aged white wine                 0.0            0.0           0.0  \n",
       "...                             ...            ...           ...  \n",
       "whole wheat rice                0.0            5.0           0.0  \n",
       "whole wheat spagetti            0.0            0.0           0.0  \n",
       "yams                            4.0            5.0           0.0  \n",
       "yogurt cake                     0.0            0.0           0.0  \n",
       "zucchini                        0.0            0.0           0.0  \n",
       "\n",
       "[229 rows x 415 columns]"
      ]
     },
     "execution_count": 41,
     "metadata": {},
     "output_type": "execute_result"
    }
   ],
   "source": [
    "item_pivot = final_ratings.pivot_table(columns = 'UserId', index = 'ITEM', values = 'Rating')\n",
    "item_pivot.fillna(0, inplace = True)\n",
    "item_pivot"
   ]
  },
  {
   "cell_type": "code",
   "execution_count": 42,
   "id": "c3685376",
   "metadata": {},
   "outputs": [
    {
     "data": {
      "text/plain": [
       "<229x415 sparse matrix of type '<class 'numpy.float64'>'\n",
       "\twith 6687 stored elements in Compressed Sparse Row format>"
      ]
     },
     "execution_count": 42,
     "metadata": {},
     "output_type": "execute_result"
    }
   ],
   "source": [
    "item_sparse = csr_matrix(item_pivot)\n",
    "item_sparse"
   ]
  },
  {
   "cell_type": "markdown",
   "id": "b24bd84d",
   "metadata": {},
   "source": [
    "### Model"
   ]
  },
  {
   "cell_type": "code",
   "execution_count": 43,
   "id": "f59a182e",
   "metadata": {},
   "outputs": [],
   "source": [
    "model = NearestNeighbors(algorithm='brute')"
   ]
  },
  {
   "cell_type": "code",
   "execution_count": 44,
   "id": "36650d19",
   "metadata": {},
   "outputs": [
    {
     "data": {
      "text/plain": [
       "NearestNeighbors(algorithm='brute')"
      ]
     },
     "execution_count": 44,
     "metadata": {},
     "output_type": "execute_result"
    }
   ],
   "source": [
    "model.fit(item_sparse)"
   ]
  },
  {
   "cell_type": "code",
   "execution_count": 45,
   "id": "83090281",
   "metadata": {},
   "outputs": [],
   "source": [
    "distances, suggestions = model.kneighbors(item_pivot.loc['baby corn', : ].values.reshape(1,-1), n_neighbors = 6)"
   ]
  },
  {
   "cell_type": "code",
   "execution_count": 46,
   "id": "1ee93179",
   "metadata": {},
   "outputs": [
    {
     "name": "stdout",
     "output_type": "stream",
     "text": [
      "<class 'pandas.core.series.Series'>\n"
     ]
    }
   ],
   "source": [
    "print(type(item_pivot.loc['mango cream', : ]))"
   ]
  },
  {
   "cell_type": "code",
   "execution_count": 47,
   "id": "6e75e024",
   "metadata": {},
   "outputs": [
    {
     "data": {
      "text/plain": [
       "array([[ 13, 142, 199, 101, 184, 126]], dtype=int64)"
      ]
     },
     "execution_count": 47,
     "metadata": {},
     "output_type": "execute_result"
    }
   ],
   "source": [
    "suggestions"
   ]
  },
  {
   "cell_type": "code",
   "execution_count": 48,
   "id": "d3f06c28",
   "metadata": {
    "scrolled": true
   },
   "outputs": [
    {
     "name": "stdout",
     "output_type": "stream",
     "text": [
      "Index(['baby corn', 'mint powder', 'strawberry sparkling water',\n",
      "       'frozon vegetables mix', 'seasoned herb & pepper',\n",
      "       'low fat cooking oil'],\n",
      "      dtype='object', name='ITEM')\n"
     ]
    }
   ],
   "source": [
    "#suggestions for turkey by similar users\n",
    "for i in range(len(suggestions)):\n",
    "    print(item_pivot.index[suggestions[i]])"
   ]
  },
  {
   "cell_type": "code",
   "execution_count": 49,
   "id": "2ce1f621",
   "metadata": {},
   "outputs": [
    {
     "name": "stdout",
     "output_type": "stream",
     "text": [
      "<bound method KNeighborsMixin.kneighbors of NearestNeighbors(algorithm='brute')>\n"
     ]
    }
   ],
   "source": [
    "print(model.kneighbors)"
   ]
  },
  {
   "cell_type": "markdown",
   "id": "666adbb8",
   "metadata": {},
   "source": [
    "### Saving the model and the pivot table"
   ]
  },
  {
   "cell_type": "code",
   "execution_count": 50,
   "id": "044277eb",
   "metadata": {},
   "outputs": [],
   "source": [
    "#Saving Pivot table\n",
    "import joblib\n",
    "pkl_file = open(\"item_pivot.pkl\",\"wb\")\n",
    "joblib.dump(item_pivot,pkl_file)\n",
    "pkl_file.close()"
   ]
  },
  {
   "cell_type": "code",
   "execution_count": 51,
   "id": "7aff8ae6",
   "metadata": {},
   "outputs": [],
   "source": [
    "#Saving Model\n",
    "import joblib\n",
    "pkl_file = open(\"similarUser.pkl\",\"wb\")\n",
    "joblib.dump(model,pkl_file)\n",
    "pkl_file.close()"
   ]
  },
  {
   "cell_type": "code",
   "execution_count": 52,
   "id": "830ad03c",
   "metadata": {},
   "outputs": [],
   "source": [
    "#Load Model and pivot table\n",
    "data = joblib.load('similarUser.pkl')\n",
    "pt = joblib.load('item_pivot.pkl')"
   ]
  },
  {
   "cell_type": "code",
   "execution_count": 53,
   "id": "35e70cca",
   "metadata": {},
   "outputs": [],
   "source": [
    "#Try Outs\n",
    "a = 'mango cream'\n",
    "distances, suggestions = data.kneighbors(pt.loc[a, : ].values.reshape(1,-1), n_neighbors = 6)"
   ]
  },
  {
   "cell_type": "code",
   "execution_count": 54,
   "id": "64ca1c62",
   "metadata": {},
   "outputs": [
    {
     "name": "stdout",
     "output_type": "stream",
     "text": [
      "Index(['mango cream', 'lemon black tea', 'strawberry sparkling water',\n",
      "       'mint powder', 'salted toothpaste', 'frozon vegetables mix'],\n",
      "      dtype='object', name='ITEM')\n"
     ]
    }
   ],
   "source": [
    "for i in range(len(suggestions)):\n",
    "    print(pt.index[suggestions[i]])"
   ]
  },
  {
   "cell_type": "code",
   "execution_count": null,
   "id": "8048899d",
   "metadata": {},
   "outputs": [],
   "source": []
  }
 ],
 "metadata": {
  "kernelspec": {
   "display_name": "Python 3 (ipykernel)",
   "language": "python",
   "name": "python3"
  },
  "language_info": {
   "codemirror_mode": {
    "name": "ipython",
    "version": 3
   },
   "file_extension": ".py",
   "mimetype": "text/x-python",
   "name": "python",
   "nbconvert_exporter": "python",
   "pygments_lexer": "ipython3",
   "version": "3.9.5"
  }
 },
 "nbformat": 4,
 "nbformat_minor": 5
}
